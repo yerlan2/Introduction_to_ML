{
 "cells": [
  {
   "cell_type": "markdown",
   "metadata": {},
   "source": [
    "### Before importing you need to install pygmaps library"
   ]
  },
  {
   "cell_type": "code",
   "execution_count": 1,
   "metadata": {},
   "outputs": [],
   "source": [
    "from time import sleep\n",
    "import numpy as np\n",
    "import pygmaps\n",
    "\n",
    "from matplotlib import pyplot as plt\n",
    "from matplotlib import colors\n",
    "import pandas as pd\n",
    "import colorsys"
   ]
  },
  {
   "cell_type": "markdown",
   "metadata": {},
   "source": [
    "### Here is the function that returns the lattitude and longitude"
   ]
  },
  {
   "cell_type": "code",
   "execution_count": 2,
   "metadata": {},
   "outputs": [],
   "source": [
    "def geoGrab(address):\n",
    "    from geopy.geocoders import Nominatim\n",
    "    geolocator = Nominatim(user_agent='Assignment8')\n",
    "    location = geolocator.geocode(address)\n",
    "    if location is not None:\n",
    "        loc = {}\n",
    "        loc['latitude'] = location.latitude\n",
    "        loc['longitude'] = location.longitude\n",
    "        return loc\n",
    "    else:\n",
    "        return None\n"
   ]
  },
  {
   "cell_type": "markdown",
   "metadata": {},
   "source": [
    "### Fill out this function placeFind()"
   ]
  },
  {
   "cell_type": "code",
   "execution_count": 3,
   "metadata": {},
   "outputs": [
    {
     "name": "stdout",
     "output_type": "stream",
     "text": [
      "Not found or not located in Almaty : Kablukov St 270 Almaty\n",
      "Not found or not located in Almaty : Almaty, ul. Zheltoksan, 181\n",
      "Not found or not located in Almaty : Almaty, ul. Kabanbay Batyra, 83\n"
     ]
    }
   ],
   "source": [
    "def placeFind(fileName):\n",
    "    fw = open('places.txt', 'w')\n",
    "    from geopy.geocoders import Nominatim\n",
    "    Almaty_location = Nominatim(user_agent='Assignment8').geocode('Almaty')\n",
    "    if Almaty_location is not None:\n",
    "        Almaty_lat  = [Almaty_location.latitude-.25, Almaty_location.latitude+.25]\n",
    "        Almaty_long = [Almaty_location.longitude-.25, Almaty_location.longitude+.25]\n",
    "        for line in open(fileName).readlines():\n",
    "            # read rows and take their exact address \n",
    "            address = line.replace('\\n', '').split('\\t')[1]\n",
    "            # use geoGrab which returns a location stored in a dictionary format\n",
    "            location = geoGrab(address)\n",
    "            if location is not None \\\n",
    "                and location['latitude'] > Almaty_lat[0] and location['latitude'] < Almaty_lat[1] \\\n",
    "                and location['longitude'] > Almaty_long[0] and location['longitude'] < Almaty_long[1]:\n",
    "                # write the longitude and latitude to places.txt\n",
    "                fw.write(f\"{location['latitude']};{location['longitude']}\\n\")\n",
    "            else:\n",
    "                # inform about error\n",
    "                print(f\"Not found or not located in Almaty : {address}\")\n",
    "            sleep(2) # the time pause needed as it takes some time to \n",
    "                     # connect through Google API and find location\n",
    "    fw.close()\n",
    "\n",
    "placeFind('almatyPlaces.txt')"
   ]
  },
  {
   "cell_type": "markdown",
   "metadata": {},
   "source": [
    "### Write your own function k-means:"
   ]
  },
  {
   "cell_type": "code",
   "execution_count": 4,
   "metadata": {},
   "outputs": [],
   "source": [
    "def readPlaces(numClust):\n",
    "    df = pd.read_csv('places.txt', delimiter=';', header=None)\n",
    "    features = df.values # features[:,0] - latitude, features[:,1] - longitude;\n",
    "    idx = np.random.randint(features.shape[0], size=numClust)\n",
    "    centroid_pos = features[idx, :]\n",
    "    return features, centroid_pos\n",
    "\n",
    "\n",
    "def KMeans(features, centroid):\n",
    "    centroid_copy = centroid.copy()\n",
    "    for _ in range(1000):\n",
    "        centroid__list = []\n",
    "        for i in range(features.shape[0]):\n",
    "            distance = np.absolute(centroid - features[i]).sum(axis=1)\n",
    "            centroid__list.append(distance.argmin())\n",
    "        centroid__list_ = np.array(centroid__list)\n",
    "        for x in np.unique(centroid__list_):\n",
    "            x_centroid = []\n",
    "            for i in range(centroid__list_.shape[0]):\n",
    "                if x == centroid__list_[i]:\n",
    "                    x_centroid.append(features[i])\n",
    "            centroid[x] = np.array(x_centroid).mean(axis=0)\n",
    "        if (centroid_copy==centroid).sum() == centroid.ravel().shape[0]:\n",
    "            break\n",
    "        centroid_copy = centroid.copy()\n",
    "    return centroid_copy, centroid__list_[:, np.newaxis]\n",
    "\n",
    "\n",
    "def clusterPlaces(numClust):\n",
    "    # left this function empty as your code will be individual\n",
    "    features, centroid_pos = readPlaces(numClust)\n",
    "    centroid_new_pos, centroid__class = KMeans(features, centroid_pos)\n",
    "    return numClust, features, centroid_new_pos, centroid__class\n",
    "\n",
    "\n",
    "def plotData(numClust, features, centroid_new_pos, centroid__class):\n",
    "    labels_numClust = np.arange(numClust)\n",
    "    fig1, ax1 = plt.subplots()\n",
    "    n_features = np.vstack((features, centroid_new_pos))\n",
    "    n_centroid__class = np.vstack((centroid__class, labels_numClust[:, np.newaxis]))\n",
    "    ax1.scatter(n_features[:, 1], n_features[:, 0], c=n_centroid__class.ravel(), cmap='brg', s=20)\n",
    "    ax1.scatter(centroid_new_pos[:, 1], centroid_new_pos[:, 0], c=labels_numClust, cmap='brg', s=100, marker='x', linewidths=4)\n",
    "    plt.show()\n",
    "\n",
    "    \n",
    "def generateHTML(numClust, features, centroid_new_pos, centroid__class):\n",
    "    HSV_tuples = [(x*1.0/numClust, 0.5, 0.5) for x in range(numClust)]\n",
    "    RGB_tuples = map(lambda x: colorsys.hsv_to_rgb(*x), HSV_tuples)\n",
    "    colors_point = list(RGB_tuples)\n",
    "    HSV_tuples = [(x*1.0/numClust, 1, 1) for x in range(numClust)]\n",
    "    RGB_tuples = map(lambda x: colorsys.hsv_to_rgb(*x), HSV_tuples)\n",
    "    colors_centroid = list(RGB_tuples)\n",
    "    mymap = pygmaps.pygmaps((max(features[:,0])+min(features[:,0]))/2, (max(features[:,1])+min(features[:,1]))/2, 12)\n",
    "    for i in range(centroid__class.shape[0]): \n",
    "        mymap.addpoint(features[:,0][i], features[:,1][i], colors.to_hex(colors_point[ int(centroid__class[i]) ]))\n",
    "    for i in range(centroid_new_pos.shape[0]):\n",
    "        mymap.addpoint(centroid_new_pos[:,0][i], centroid_new_pos[:,1][i], colors.to_hex(colors_centroid[i]))\n",
    "    mymap.draw(f'./mymap{numClust}.html')"
   ]
  },
  {
   "cell_type": "code",
   "execution_count": 5,
   "metadata": {},
   "outputs": [
    {
     "data": {
      "image/png": "[encoded data removed]",
      "text/plain": [
       "<Figure size 432x288 with 1 Axes>"
      ]
     },
     "metadata": {
      "needs_background": "light"
     },
     "output_type": "display_data"
    },
    {
     "data": {
      "image/png": "[encoded data removed]",
      "text/plain": [
       "<Figure size 432x288 with 1 Axes>"
      ]
     },
     "metadata": {
      "needs_background": "light"
     },
     "output_type": "display_data"
    },
    {
     "data": {
      "image/png": "[encoded data removed]",
      "text/plain": [
       "<Figure size 432x288 with 1 Axes>"
      ]
     },
     "metadata": {
      "needs_background": "light"
     },
     "output_type": "display_data"
    }
   ],
   "source": [
    "numClust, features, centroid_new_pos, centroid__class = clusterPlaces(3)\n",
    "plotData(numClust, features, centroid_new_pos, centroid__class)\n",
    "generateHTML(numClust, features, centroid_new_pos, centroid__class)\n",
    "\n",
    "numClust, features, centroid_new_pos, centroid__class = clusterPlaces(4)\n",
    "plotData(numClust, features, centroid_new_pos, centroid__class)\n",
    "generateHTML(numClust, features, centroid_new_pos, centroid__class)\n",
    "\n",
    "numClust, features, centroid_new_pos, centroid__class = clusterPlaces(5)\n",
    "plotData(numClust, features, centroid_new_pos, centroid__class)\n",
    "generateHTML(numClust, features, centroid_new_pos, centroid__class)"
   ]
  },
  {
   "cell_type": "markdown",
   "metadata": {},
   "source": [
    "At the end you need to obtain html file with points on the maps"
   ]
  },
  {
   "cell_type": "code",
   "execution_count": null,
   "metadata": {},
   "outputs": [],
   "source": []
  }
 ],
 "metadata": {
  "kernelspec": {
   "display_name": "Python 3",
   "language": "python",
   "name": "python3"
  },
  "language_info": {
   "codemirror_mode": {
    "name": "ipython",
    "version": 3
   },
   "file_extension": ".py",
   "mimetype": "text/x-python",
   "name": "python",
   "nbconvert_exporter": "python",
   "pygments_lexer": "ipython3",
   "version": "3.8.3"
  }
 },
 "nbformat": 4,
 "nbformat_minor": 4
}
