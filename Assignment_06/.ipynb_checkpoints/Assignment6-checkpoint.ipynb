{
 "cells": [
  {
   "cell_type": "markdown",
   "metadata": {
    "id": "ACEPIDl7kknF"
   },
   "source": [
    "Name: Yerlan Negmetulla"
   ]
  },
  {
   "cell_type": "markdown",
   "metadata": {
    "id": "A5rBaeR1kdeK"
   },
   "source": [
    "## import needed libraries\n"
   ]
  },
  {
   "cell_type": "code",
   "execution_count": 1,
   "metadata": {
    "id": "ME2oiKQZkdeO"
   },
   "outputs": [],
   "source": [
    "import numpy as np\n",
    "import pandas as pd\n",
    "\n",
    "from sklearn.model_selection import train_test_split\n",
    "from sklearn.tree import DecisionTreeClassifier"
   ]
  },
  {
   "cell_type": "markdown",
   "metadata": {
    "id": "dZPaV-EBkdeb"
   },
   "source": [
    "## read the car.data"
   ]
  },
  {
   "cell_type": "code",
   "execution_count": 2,
   "metadata": {
    "id": "xs7zzX2Nkdeh",
    "outputId": "37cefb30-ea88-44d8-8168-65517cef92be",
    "scrolled": true
   },
   "outputs": [
    {
     "data": {
      "text/html": [
       "<div>\n",
       "<style scoped>\n",
       "    .dataframe tbody tr th:only-of-type {\n",
       "        vertical-align: middle;\n",
       "    }\n",
       "\n",
       "    .dataframe tbody tr th {\n",
       "        vertical-align: top;\n",
       "    }\n",
       "\n",
       "    .dataframe thead th {\n",
       "        text-align: right;\n",
       "    }\n",
       "</style>\n",
       "<table border=\"1\" class=\"dataframe\">\n",
       "  <thead>\n",
       "    <tr style=\"text-align: right;\">\n",
       "      <th></th>\n",
       "      <th>0</th>\n",
       "      <th>1</th>\n",
       "      <th>2</th>\n",
       "      <th>3</th>\n",
       "      <th>4</th>\n",
       "      <th>5</th>\n",
       "      <th>6</th>\n",
       "    </tr>\n",
       "  </thead>\n",
       "  <tbody>\n",
       "    <tr>\n",
       "      <th>0</th>\n",
       "      <td>vhigh</td>\n",
       "      <td>vhigh</td>\n",
       "      <td>2</td>\n",
       "      <td>2</td>\n",
       "      <td>small</td>\n",
       "      <td>low</td>\n",
       "      <td>unacc</td>\n",
       "    </tr>\n",
       "    <tr>\n",
       "      <th>1</th>\n",
       "      <td>vhigh</td>\n",
       "      <td>vhigh</td>\n",
       "      <td>2</td>\n",
       "      <td>2</td>\n",
       "      <td>small</td>\n",
       "      <td>med</td>\n",
       "      <td>unacc</td>\n",
       "    </tr>\n",
       "    <tr>\n",
       "      <th>2</th>\n",
       "      <td>vhigh</td>\n",
       "      <td>vhigh</td>\n",
       "      <td>2</td>\n",
       "      <td>2</td>\n",
       "      <td>small</td>\n",
       "      <td>high</td>\n",
       "      <td>unacc</td>\n",
       "    </tr>\n",
       "    <tr>\n",
       "      <th>3</th>\n",
       "      <td>vhigh</td>\n",
       "      <td>vhigh</td>\n",
       "      <td>2</td>\n",
       "      <td>2</td>\n",
       "      <td>med</td>\n",
       "      <td>low</td>\n",
       "      <td>unacc</td>\n",
       "    </tr>\n",
       "    <tr>\n",
       "      <th>4</th>\n",
       "      <td>vhigh</td>\n",
       "      <td>vhigh</td>\n",
       "      <td>2</td>\n",
       "      <td>2</td>\n",
       "      <td>med</td>\n",
       "      <td>med</td>\n",
       "      <td>unacc</td>\n",
       "    </tr>\n",
       "    <tr>\n",
       "      <th>...</th>\n",
       "      <td>...</td>\n",
       "      <td>...</td>\n",
       "      <td>...</td>\n",
       "      <td>...</td>\n",
       "      <td>...</td>\n",
       "      <td>...</td>\n",
       "      <td>...</td>\n",
       "    </tr>\n",
       "    <tr>\n",
       "      <th>1723</th>\n",
       "      <td>low</td>\n",
       "      <td>low</td>\n",
       "      <td>5more</td>\n",
       "      <td>more</td>\n",
       "      <td>med</td>\n",
       "      <td>med</td>\n",
       "      <td>good</td>\n",
       "    </tr>\n",
       "    <tr>\n",
       "      <th>1724</th>\n",
       "      <td>low</td>\n",
       "      <td>low</td>\n",
       "      <td>5more</td>\n",
       "      <td>more</td>\n",
       "      <td>med</td>\n",
       "      <td>high</td>\n",
       "      <td>vgood</td>\n",
       "    </tr>\n",
       "    <tr>\n",
       "      <th>1725</th>\n",
       "      <td>low</td>\n",
       "      <td>low</td>\n",
       "      <td>5more</td>\n",
       "      <td>more</td>\n",
       "      <td>big</td>\n",
       "      <td>low</td>\n",
       "      <td>unacc</td>\n",
       "    </tr>\n",
       "    <tr>\n",
       "      <th>1726</th>\n",
       "      <td>low</td>\n",
       "      <td>low</td>\n",
       "      <td>5more</td>\n",
       "      <td>more</td>\n",
       "      <td>big</td>\n",
       "      <td>med</td>\n",
       "      <td>good</td>\n",
       "    </tr>\n",
       "    <tr>\n",
       "      <th>1727</th>\n",
       "      <td>low</td>\n",
       "      <td>low</td>\n",
       "      <td>5more</td>\n",
       "      <td>more</td>\n",
       "      <td>big</td>\n",
       "      <td>high</td>\n",
       "      <td>vgood</td>\n",
       "    </tr>\n",
       "  </tbody>\n",
       "</table>\n",
       "<p>1728 rows × 7 columns</p>\n",
       "</div>"
      ],
      "text/plain": [
       "          0      1      2     3      4     5      6\n",
       "0     vhigh  vhigh      2     2  small   low  unacc\n",
       "1     vhigh  vhigh      2     2  small   med  unacc\n",
       "2     vhigh  vhigh      2     2  small  high  unacc\n",
       "3     vhigh  vhigh      2     2    med   low  unacc\n",
       "4     vhigh  vhigh      2     2    med   med  unacc\n",
       "...     ...    ...    ...   ...    ...   ...    ...\n",
       "1723    low    low  5more  more    med   med   good\n",
       "1724    low    low  5more  more    med  high  vgood\n",
       "1725    low    low  5more  more    big   low  unacc\n",
       "1726    low    low  5more  more    big   med   good\n",
       "1727    low    low  5more  more    big  high  vgood\n",
       "\n",
       "[1728 rows x 7 columns]"
      ]
     },
     "execution_count": 2,
     "metadata": {},
     "output_type": "execute_result"
    }
   ],
   "source": [
    "data = pd.read_table('car.data', delimiter = ',', header=None)\n",
    "data"
   ]
  },
  {
   "cell_type": "markdown",
   "metadata": {
    "id": "f0up3436kdeu"
   },
   "source": [
    "\n",
    "## do the preprocessing"
   ]
  },
  {
   "cell_type": "code",
   "execution_count": 3,
   "metadata": {
    "id": "HYympXExkdey"
   },
   "outputs": [],
   "source": [
    "def preprocessing_labels(digits, labels_dict):\n",
    "    for x in labels_dict: \n",
    "        digits = np.where(digits==x, labels_dict[x], digits)\n",
    "    return digits\n",
    "\n",
    "labels = np.unique(data)\n",
    "labels_dict = {\n",
    "    'low':1,    'med':2,  'high':3,  'vhigh':4,\n",
    "    '2':2,      '3':3,    '4':4,     '5more':5,  'more':6,\n",
    "    'small':1,  'big':3,\n",
    "    'unacc':1,  'acc':2,  'good':3,  'vgood':4\n",
    "}"
   ]
  },
  {
   "cell_type": "code",
   "execution_count": 4,
   "metadata": {
    "id": "FP2s43VBkde7"
   },
   "outputs": [],
   "source": [
    "def preprocessing_data(data, labels, labels_dict):\n",
    "    preprocessed_labels = preprocessing_labels(labels, labels_dict)\n",
    "    preprocessed_data = np.zeros(data.shape)\n",
    "    for i in range(data.shape[1]):\n",
    "        for j in range(data.shape[0]):\n",
    "            preprocessed_data[j][i] = preprocessed_labels[ np.where(labels == data[i][j]) ]\n",
    "    return preprocessed_data\n",
    "\n",
    "preprocessed_data = preprocessing_data(data, labels, labels_dict)"
   ]
  },
  {
   "cell_type": "markdown",
   "metadata": {
    "id": "pu-tGoXvkdfE"
   },
   "source": [
    "\n",
    "## Apply Decision Tree Algorithm\n",
    "You can use sklearn\n",
    "As usual, divide the dataset for train and test"
   ]
  },
  {
   "cell_type": "code",
   "execution_count": 5,
   "metadata": {
    "id": "Uh8X7gX4kdfG"
   },
   "outputs": [],
   "source": [
    "X = preprocessed_data[:, :-1]\n",
    "y = preprocessed_data[:,  -1]\n",
    "X_train, X_test, y_train, y_test = train_test_split(X, y, test_size=0.3, random_state=42)\n",
    "\n",
    "clf = DecisionTreeClassifier(random_state=0)\n",
    "clf.fit(X_train, y_train)\n",
    "pred = clf.predict(X_test)\n",
    "\n",
    "def confusion_matrix(y_actu, y_pred):\n",
    "    labels = np.unique(y_actu)\n",
    "    labels_number = len(labels)\n",
    "    model = np.zeros((labels_number, labels_number), dtype=int)\n",
    "    for i in range(labels_number):\n",
    "        for j in range(labels_number):\n",
    "            model[i][j] = np.sum((y_actu==labels[i]) & (y_pred==labels[j]))\n",
    "    return model, labels_number"
   ]
  },
  {
   "cell_type": "code",
   "execution_count": 6,
   "metadata": {
    "id": "G59Zg6vVkdfQ",
    "outputId": "d731d617-0d2e-4617-e684-59c838faf6d8"
   },
   "outputs": [
    {
     "name": "stdout",
     "output_type": "stream",
     "text": [
      "Accuracy is about  0.9633911368015414 %\n"
     ]
    }
   ],
   "source": [
    "def accuracy(y_actu, y_pred):\n",
    "    model, labels_number = confusion_matrix(y_actu, y_pred)\n",
    "    sum_ = 0\n",
    "    for i in range(labels_number):\n",
    "        sum_ += model[i][i]\n",
    "    return sum_ / model.sum()\n",
    "\n",
    "print(f\"Accuracy is about  {accuracy(y_test, pred)} %\")"
   ]
  },
  {
   "cell_type": "markdown",
   "metadata": {
    "id": "aui1VfmFkdfZ"
   },
   "source": [
    "## Write your own function for f1-score"
   ]
  },
  {
   "cell_type": "code",
   "execution_count": 7,
   "metadata": {
    "id": "icHcd3lpkdfa",
    "outputId": "cd83c665-0a08-4a93-92c3-38979ffa2876"
   },
   "outputs": [
    {
     "name": "stdout",
     "output_type": "stream",
     "text": [
      "F1 score is about:  0.8937547024493343 %\n"
     ]
    }
   ],
   "source": [
    "def f1_macro(y_actu, y_pred):\n",
    "    model, labels_number = confusion_matrix(y_actu, y_pred)\n",
    "    sum_axis_0 = model.sum(axis=0)\n",
    "    sum_axis_1 = model.sum(axis=1)\n",
    "    precision = 0\n",
    "    recall = 0\n",
    "    for i in range(labels_number):\n",
    "        precision += model[i][i]/sum_axis_0[i]\n",
    "        recall += model[i][i]/sum_axis_1[i]\n",
    "    precision /= labels_number\n",
    "    recall /= labels_number\n",
    "    return 2 * precision * recall / (precision + recall)\n",
    "\n",
    "print(f\"F1 score is about:  {f1_macro(y_test, pred)} %\")"
   ]
  },
  {
   "cell_type": "code",
   "execution_count": null,
   "metadata": {
    "id": "f6j9Ls1zkdfh"
   },
   "outputs": [],
   "source": []
  }
 ],
 "metadata": {
  "colab": {
   "collapsed_sections": [],
   "name": "Assignment 6 template.ipynb",
   "provenance": []
  },
  "kernelspec": {
   "display_name": "Python 3",
   "language": "python",
   "name": "python3"
  },
  "language_info": {
   "codemirror_mode": {
    "name": "ipython",
    "version": 3
   },
   "file_extension": ".py",
   "mimetype": "text/x-python",
   "name": "python",
   "nbconvert_exporter": "python",
   "pygments_lexer": "ipython3",
   "version": "3.8.3"
  }
 },
 "nbformat": 4,
 "nbformat_minor": 4
}
