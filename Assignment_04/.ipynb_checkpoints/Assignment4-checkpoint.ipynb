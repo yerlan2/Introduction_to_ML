{
 "cells": [
  {
   "cell_type": "markdown",
   "metadata": {
    "colab_type": "text",
    "id": "hXHImriWMGj4"
   },
   "source": [
    "Your name: Yerlan Negmetulla"
   ]
  },
  {
   "cell_type": "markdown",
   "metadata": {
    "colab_type": "text",
    "id": "Oixob1YcMAsg"
   },
   "source": [
    "# import breast_cancer dataset using \n",
    "from sklearn.datasets import load_breast_cancer"
   ]
  },
  {
   "cell_type": "code",
   "execution_count": 1,
   "metadata": {
    "colab": {},
    "colab_type": "code",
    "id": "P6E0jQ3LMAsk",
    "outputId": "024d0888-5a0e-46b2-a927-1c5e3628a32d"
   },
   "outputs": [
    {
     "name": "stdout",
     "output_type": "stream",
     "text": [
      "Features.shape:  (569, 30)\n",
      "Labels are 0, and 1 for benign and malignant cancer\n"
     ]
    }
   ],
   "source": [
    "import numpy as np\n",
    "from sklearn.datasets  import load_breast_cancer\n",
    "\n",
    "data = load_breast_cancer().data\n",
    "target = load_breast_cancer().target\n",
    "\n",
    "print(f\"Features.shape:  {data.shape}\")\n",
    "print(\"Labels are 0, and 1 for benign and malignant cancer\")"
   ]
  },
  {
   "cell_type": "markdown",
   "metadata": {
    "colab_type": "text",
    "id": "uXyaZ_rKMAs8"
   },
   "source": [
    "# divide the dataset for train and test\n",
    "train size 70% and test size 30%"
   ]
  },
  {
   "cell_type": "code",
   "execution_count": 2,
   "metadata": {
    "colab": {},
    "colab_type": "code",
    "id": "arjWPSO6MAtE"
   },
   "outputs": [],
   "source": [
    "from sklearn.model_selection import train_test_split\n",
    "\n",
    "data_train, data_test, target_train, target_test = train_test_split(data, target, test_size=0.3, random_state=42)"
   ]
  },
  {
   "cell_type": "markdown",
   "metadata": {
    "colab_type": "text",
    "id": "FklWlkZ7MAtU"
   },
   "source": [
    "# Predict values using GaussianNB\n",
    "from sklearn.naive_bayes import GaussianNB then\n",
    "store your predicted values in np.array pred"
   ]
  },
  {
   "cell_type": "code",
   "execution_count": 3,
   "metadata": {
    "colab": {},
    "colab_type": "code",
    "id": "5mUnJjx1MAtb"
   },
   "outputs": [],
   "source": [
    "from sklearn.naive_bayes import GaussianNB\n",
    "\n",
    "clf = GaussianNB()\n",
    "clf.fit(data_train, target_train)\n",
    "pred = clf.predict(data_test)"
   ]
  },
  {
   "cell_type": "markdown",
   "metadata": {
    "colab_type": "text",
    "id": "zm-Uz9N-MAtn"
   },
   "source": [
    "# Write a function that calculates accuracy\n",
    "You need to write your own function that works for any dataset"
   ]
  },
  {
   "cell_type": "code",
   "execution_count": 4,
   "metadata": {
    "colab": {},
    "colab_type": "code",
    "id": "9u-PL-IhMAto",
    "outputId": "847bb7a7-50a0-445c-e005-149d7b2cbe60"
   },
   "outputs": [
    {
     "name": "stdout",
     "output_type": "stream",
     "text": [
      "Accuracy is about  94.15204678362574 %\n"
     ]
    }
   ],
   "source": [
    "def accuracy(pred, answ):\n",
    "    delta = pred == answ\n",
    "    return delta.sum()/len(delta) * 100\n",
    "\n",
    "print(f\"Accuracy is about  { accuracy(pred, target_test) } %\")"
   ]
  },
  {
   "cell_type": "code",
   "execution_count": null,
   "metadata": {},
   "outputs": [],
   "source": []
  }
 ],
 "metadata": {
  "colab": {
   "collapsed_sections": [],
   "name": "Assignment4_template.ipynb",
   "provenance": []
  },
  "kernelspec": {
   "display_name": "Python 3",
   "language": "python",
   "name": "python3"
  },
  "language_info": {
   "codemirror_mode": {
    "name": "ipython",
    "version": 3
   },
   "file_extension": ".py",
   "mimetype": "text/x-python",
   "name": "python",
   "nbconvert_exporter": "python",
   "pygments_lexer": "ipython3",
   "version": "3.8.3"
  }
 },
 "nbformat": 4,
 "nbformat_minor": 4
}
