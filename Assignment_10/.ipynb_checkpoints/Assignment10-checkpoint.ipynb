{
 "cells": [
  {
   "cell_type": "raw",
   "metadata": {},
   "source": [
    "For this assignment you need to:\n",
    "    Prepare the data - stopwords, stemming\n",
    "    Apply both: bag of words and tfIdf\n",
    "    Apply Logistic Regression, SVM, and NaiveBayes for the ready dataset\n",
    "    Compare accuracies for bag of words and tfidf with all the algorithms above"
   ]
  },
  {
   "cell_type": "code",
   "execution_count": 1,
   "metadata": {},
   "outputs": [],
   "source": [
    "import numpy as np\n",
    "import matplotlib.pyplot as plt\n",
    "import pandas as pd \n",
    "from sklearn.feature_extraction.text import TfidfVectorizer \n",
    "import nltk, ssl \n",
    "from nltk.corpus import stopwords \n",
    "from nltk.stem.snowball import SnowballStemmer \n",
    "from sklearn.feature_extraction.text import CountVectorizer "
   ]
  },
  {
   "cell_type": "raw",
   "metadata": {},
   "source": [
    "The sentiment labels are:\n",
    "\n",
    "0 - negative\n",
    "1 - somewhat negative\n",
    "2 - neutral\n",
    "3 - somewhat positive\n",
    "4 - positive"
   ]
  },
  {
   "cell_type": "code",
   "execution_count": 2,
   "metadata": {},
   "outputs": [
    {
     "data": {
      "text/plain": [
       "0     7072\n",
       "1    27273\n",
       "2    79582\n",
       "3    32927\n",
       "4     9206\n",
       "Name: Numbers, dtype: int64"
      ]
     },
     "execution_count": 2,
     "metadata": {},
     "output_type": "execute_result"
    }
   ],
   "source": [
    "data = pd.read_csv('data.tsv', sep='\\t')\n",
    "\n",
    "df = pd.DataFrame(data.groupby('Sentiment').count()['Phrase'].values, columns=['Numbers']) ['Numbers']\n",
    "df.head()"
   ]
  },
  {
   "cell_type": "code",
   "execution_count": 3,
   "metadata": {},
   "outputs": [
    {
     "name": "stderr",
     "output_type": "stream",
     "text": [
      "[nltk_data] Downloading package stopwords to\n",
      "[nltk_data]     /Users/yerlan2/nltk_data...\n",
      "[nltk_data]   Package stopwords is already up-to-date!\n"
     ]
    }
   ],
   "source": [
    "import re\n",
    "try:  _create_unverified_https_context = ssl._create_unverified_context \n",
    "except AttributeError: pass \n",
    "else: ssl._create_default_https_context = _create_unverified_https_context \n",
    "nltk.download('stopwords') \n",
    "\n",
    "stopwords = stopwords.words('english')\n",
    "stemmer = SnowballStemmer('english')\n",
    "\n",
    "phrases1 = data['Phrase'].values\n",
    "sentiments = data['Sentiment'].values\n",
    "\n",
    "phrases2 = []\n",
    "for x in phrases1:\n",
    "    phrases2.append(\" \".join([stemmer.stem(i) for i in nltk.word_tokenize(x.lower()) if re.match(r'(?!.*(.)\\1{2,})^[a-zA-Z]*$', i) and i not in stopwords]))"
   ]
  },
  {
   "cell_type": "code",
   "execution_count": 4,
   "metadata": {},
   "outputs": [],
   "source": [
    "from sklearn.model_selection import train_test_split \n",
    "X_train, X_test, y_train, y_test = train_test_split(phrases2, sentiments, test_size=.3, random_state=42)\n",
    "\n",
    "tfidfv = TfidfVectorizer()\n",
    "cv = CountVectorizer()\n",
    "\n",
    "X_train_tfidfv = tfidfv.fit_transform(X_train)\n",
    "X_test_tfidfv  = tfidfv.transform(X_test)\n",
    "\n",
    "X_train_cv = cv.fit_transform(X_train)\n",
    "X_test_cv  = cv.transform(X_test)"
   ]
  },
  {
   "cell_type": "code",
   "execution_count": 5,
   "metadata": {},
   "outputs": [
    {
     "name": "stdout",
     "output_type": "stream",
     "text": [
      "LogisticRegression TfidfVectorizer accuracy: 62.1278%\n",
      "LogisticRegression CountVectorizer accuracy: 63.2342%\n"
     ]
    }
   ],
   "source": [
    "from sklearn.linear_model import LogisticRegression\n",
    "\n",
    "clf = LogisticRegression(random_state=50, max_iter=1024).fit(X_train_tfidfv, y_train)\n",
    "score = clf.score(X_test_tfidfv, y_test)\n",
    "print(f\"LogisticRegression TfidfVectorizer accuracy: {score*100:.4f}%\")\n",
    "\n",
    "clf = LogisticRegression(random_state=50, max_iter=1024).fit(X_train_cv, y_train)\n",
    "score = clf.score(X_test_cv, y_test)\n",
    "print(f\"LogisticRegression CountVectorizer accuracy: {score*100:.4f}%\")"
   ]
  },
  {
   "cell_type": "code",
   "execution_count": 6,
   "metadata": {},
   "outputs": [
    {
     "name": "stdout",
     "output_type": "stream",
     "text": [
      "SVM TfidfVectorizer accuracy: 61.9527%\n",
      "SVM CountVectorizer accuracy: 61.6066%\n"
     ]
    }
   ],
   "source": [
    "from sklearn import svm\n",
    "\n",
    "clf = svm.LinearSVC(random_state=40, C=1024, dual=False).fit(X_train_tfidfv, y_train)\n",
    "score = clf.score(X_test_tfidfv, y_test)\n",
    "print(f\"SVM TfidfVectorizer accuracy: {score*100:.4f}%\")\n",
    "\n",
    "clf = svm.LinearSVC(random_state=40, C=1024, dual=False).fit(X_train_cv, y_train)\n",
    "score = clf.score(X_test_cv, y_test)\n",
    "print(f\"SVM CountVectorizer accuracy: {score*100:.4f}%\")"
   ]
  },
  {
   "cell_type": "code",
   "execution_count": 7,
   "metadata": {},
   "outputs": [
    {
     "name": "stdout",
     "output_type": "stream",
     "text": [
      "NaiveBayes TfidfVectorizer accuracy: 57.5121%\n",
      "NaiveBayes CountVectorizer accuracy: 60.6818%\n"
     ]
    }
   ],
   "source": [
    "from sklearn.naive_bayes import MultinomialNB\n",
    "\n",
    "clf = MultinomialNB().fit(X_train_tfidfv, y_train)\n",
    "score = clf.score(X_test_tfidfv, y_test)\n",
    "print(f\"NaiveBayes TfidfVectorizer accuracy: {score*100:.4f}%\")\n",
    "\n",
    "clf = MultinomialNB().fit(X_train_cv, y_train)\n",
    "score = clf.score(X_test_cv, y_test)\n",
    "print(f\"NaiveBayes CountVectorizer accuracy: {score*100:.4f}%\")"
   ]
  },
  {
   "cell_type": "code",
   "execution_count": null,
   "metadata": {},
   "outputs": [],
   "source": []
  }
 ],
 "metadata": {
  "kernelspec": {
   "display_name": "Python 3",
   "language": "python",
   "name": "python3"
  },
  "language_info": {
   "codemirror_mode": {
    "name": "ipython",
    "version": 3
   },
   "file_extension": ".py",
   "mimetype": "text/x-python",
   "name": "python",
   "nbconvert_exporter": "python",
   "pygments_lexer": "ipython3",
   "version": "3.8.3"
  }
 },
 "nbformat": 4,
 "nbformat_minor": 4
}
