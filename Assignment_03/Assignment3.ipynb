{
 "cells": [
  {
   "cell_type": "code",
   "execution_count": 1,
   "metadata": {},
   "outputs": [],
   "source": [
    "import random\n",
    "import numpy as np\n",
    "import matplotlib.pyplot as plt\n",
    "import matplotlib.cm as cm\n",
    "import scipy.io"
   ]
  },
  {
   "cell_type": "markdown",
   "metadata": {},
   "source": [
    "#### Data"
   ]
  },
  {
   "cell_type": "code",
   "execution_count": 2,
   "metadata": {},
   "outputs": [
    {
     "name": "stdout",
     "output_type": "stream",
     "text": [
      "Y shape:  (5000, 1)\n",
      "Class labels:  [ 1  2  3  4  5  6  7  8  9 10]\n",
      "X shape: (5000, 401). X[0] shape: (401,)\n"
     ]
    }
   ],
   "source": [
    "mat = scipy.io.loadmat('digits.mat')\n",
    "\n",
    "inputs = np.hstack(( mat['X'], np.ones((len(mat['X']),1)) ))\n",
    "outputs = mat['y']\n",
    "labels = np.unique( outputs )\n",
    "print(f\"Y shape:  {outputs.shape}\")\n",
    "print(f\"Class labels:  {labels}\")\n",
    "print(f\"X shape: {inputs.shape}. X[0] shape: {inputs[0].shape}\")\n",
    "\n",
    "outputs_bin = np.zeros((len(outputs), len(labels)))\n",
    "for i in range(len(outputs)): outputs_bin[i][outputs[i]-1] = 1\n",
    "\n",
    "weights = np.zeros((inputs.shape[1], outputs_bin.shape[1]))"
   ]
  },
  {
   "cell_type": "markdown",
   "metadata": {},
   "source": [
    "#### Data visualization"
   ]
  },
  {
   "cell_type": "code",
   "execution_count": 3,
   "metadata": {},
   "outputs": [],
   "source": [
    "def displayData():\n",
    "    x = random.randint(0, outputs.shape[0])\n",
    "    sqrt = int(inputs[x].shape[0] ** .5) \n",
    "    plt.figure(figsize = [1.0, 1.0])\n",
    "    square = 1 - inputs[x][:-1].reshape((sqrt, sqrt))\n",
    "    plt.imshow(square, interpolation='bilinear', cmap='binary')\n",
    "    plt.show()"
   ]
  },
  {
   "cell_type": "code",
   "execution_count": 4,
   "metadata": {},
   "outputs": [
    {
     "data": {
      "image/png": "[encoded data removed]",
      "text/plain": [
       "<Figure size 72x72 with 1 Axes>"
      ]
     },
     "metadata": {
      "needs_background": "light"
     },
     "output_type": "display_data"
    }
   ],
   "source": [
    "displayData()"
   ]
  },
  {
   "cell_type": "markdown",
   "metadata": {},
   "source": [
    "#### Hypothesis and cost fucntions"
   ]
  },
  {
   "cell_type": "code",
   "execution_count": 5,
   "metadata": {},
   "outputs": [],
   "source": [
    "def sigmoid(x):\n",
    "    return 1/(1+np.exp(-x))\n",
    "\n",
    "def cost(inputs, outputs, weights):\n",
    "    pred = sigmoid(np.dot(inputs, weights))\n",
    "    cost1 = -outputs * np.log(pred)\n",
    "    cost0 = -(1-outputs) * np.log(1-pred)\n",
    "    cost = cost1 + cost0\n",
    "    return np.sum(cost)/len(outputs)"
   ]
  },
  {
   "cell_type": "markdown",
   "metadata": {},
   "source": [
    "#### Gradient descent algorithm"
   ]
  },
  {
   "cell_type": "code",
   "execution_count": 6,
   "metadata": {},
   "outputs": [],
   "source": [
    "def cost_derivative(inputs, outputs, weights):\n",
    "    return np.dot(inputs.T, sigmoid(np.dot(inputs, weights)) - outputs)\n",
    "\n",
    "def gradient_descent(inputs, outputs, weights, alpha):\n",
    "    grad = cost_derivative(inputs, outputs, weights) / len(inputs)\n",
    "    grad *= alpha\n",
    "    weights -= grad\n",
    "    return weights"
   ]
  },
  {
   "cell_type": "markdown",
   "metadata": {},
   "source": [
    "#### One vs all classification"
   ]
  },
  {
   "cell_type": "code",
   "execution_count": 7,
   "metadata": {},
   "outputs": [],
   "source": [
    "def gradient(inputs, outputs, weights, epochs):\n",
    "    for i in range(epochs):\n",
    "        weights = gradient_descent(inputs, outputs, weights, 1)\n",
    "    return weights\n",
    "weights = gradient(inputs, outputs_bin, weights, 4500)\n",
    "pred = sigmoid(np.dot(inputs, weights))\n",
    "pred = np.array([pred.argmax(axis=1)+1]).T "
   ]
  },
  {
   "cell_type": "markdown",
   "metadata": {},
   "source": [
    "#### Calculate accuracy"
   ]
  },
  {
   "cell_type": "code",
   "execution_count": 8,
   "metadata": {},
   "outputs": [
    {
     "name": "stdout",
     "output_type": "stream",
     "text": [
      "Training set accuracy: 94.6%\n"
     ]
    }
   ],
   "source": [
    "print(f\"Training set accuracy: {np.mean(pred == outputs) * 100:.1f}%\")"
   ]
  },
  {
   "cell_type": "code",
   "execution_count": null,
   "metadata": {},
   "outputs": [],
   "source": []
  }
 ],
 "metadata": {
  "kernelspec": {
   "display_name": "Python 3",
   "language": "python",
   "name": "python3"
  },
  "language_info": {
   "codemirror_mode": {
    "name": "ipython",
    "version": 3
   },
   "file_extension": ".py",
   "mimetype": "text/x-python",
   "name": "python",
   "nbconvert_exporter": "python",
   "pygments_lexer": "ipython3",
   "version": "3.8.3"
  }
 },
 "nbformat": 4,
 "nbformat_minor": 4
}
